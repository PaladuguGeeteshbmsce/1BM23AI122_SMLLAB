{
 "cells": [
  {
   "cell_type": "code",
   "execution_count": 4,
   "id": "64b8b185",
   "metadata": {},
   "outputs": [],
   "source": [
    "import pandas as pd\n",
    "import numpy as np\n",
    "import matplotlib.pyplot as plt\n",
    "import statsmodels.api as sm"
   ]
  },
  {
   "cell_type": "code",
   "execution_count": 5,
   "id": "729d04d0",
   "metadata": {},
   "outputs": [
    {
     "name": "stdout",
     "output_type": "stream",
     "text": [
      "dict_items([('shear', [2063.2, 1760.5, 713.1, 1977.4, 1645.0, 1121.3, 2101.8, 1810.7, 817.2, 1718.5, 990.1, 2004.0, 1283.8, 1583.2, 1786.4, 1489.6, 1210.0, 2137.0, 1353.4, 1038.3, 2035.6, 1697.1, 952.7, 1437.9, 1575.0, 1022.4, 2119.2, 1959.8, 1094.0, 1740.6]), ('age', [7.23, 12.91, 29.13, 9.33, 14.55, 21.07, 6.45, 10.94, 27.52, 13.47, 24.65, 8.91, 19.4, 15.06, 11.26, 16.78, 20.21, 5.89, 18.3, 22.56, 7.99, 13.88, 25.34, 17.43, 14.99, 23.18, 6.11, 9.87, 21.95, 12.39])])\n"
     ]
    }
   ],
   "source": [
    "data={\n",
    "    \"shear\":[2063.2, 1760.5, 713.1, 1977.4, 1645.0, 1121.3, 2101.8, 1810.7, 817.2, 1718.5,\n",
    "         990.1, 2004.0, 1283.8, 1583.2, 1786.4, 1489.6, 1210.0, 2137.0, 1353.4, 1038.3,\n",
    "         2035.6, 1697.1, 952.7, 1437.9, 1575.0, 1022.4, 2119.2, 1959.8, 1094.0, 1740.6],\n",
    "    \"age\":[7.23, 12.91, 29.13, 9.33, 14.55, 21.07, 6.45, 10.94, 27.52, 13.47,\n",
    "       24.65, 8.91, 19.40, 15.06, 11.26, 16.78, 20.21, 5.89, 18.30, 22.56,\n",
    "       7.99, 13.88, 25.34, 17.43, 14.99, 23.18, 6.11, 9.87, 21.95, 12.39]\n",
    "}\n",
    "print(data.items())"
   ]
  },
  {
   "cell_type": "code",
   "execution_count": 7,
   "id": "a2a892f6",
   "metadata": {},
   "outputs": [
    {
     "name": "stdout",
     "output_type": "stream",
     "text": [
      "\n",
      "Intercept: 2540.17815639137\n",
      "slope: -63.928628675714364\n"
     ]
    }
   ],
   "source": [
    "df=pd.DataFrame(data)\n",
    "df.head()\n",
    "Y=data['shear']\n",
    "X=data['age']\n",
    "X=sm.add_constant(X)\n",
    "linear_regression=sm.OLS(Y,X)\n",
    "fitted_model=linear_regression.fit()\n",
    "fitted_model.summary()\n",
    "intercept=fitted_model.params[0]\n",
    "slope=fitted_model.params[1]\n",
    "print(\"\\nIntercept:\",intercept)\n",
    "print(\"slope:\",slope)"
   ]
  },
  {
   "cell_type": "code",
   "execution_count": null,
   "id": "5400a8f7",
   "metadata": {},
   "outputs": [],
   "source": []
  }
 ],
 "metadata": {
  "kernelspec": {
   "display_name": "Python 3 (ipykernel)",
   "language": "python",
   "name": "python3"
  },
  "language_info": {
   "codemirror_mode": {
    "name": "ipython",
    "version": 3
   },
   "file_extension": ".py",
   "mimetype": "text/x-python",
   "name": "python",
   "nbconvert_exporter": "python",
   "pygments_lexer": "ipython3",
   "version": "3.11.3"
  }
 },
 "nbformat": 4,
 "nbformat_minor": 5
}
